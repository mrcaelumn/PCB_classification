{
 "cells": [
  {
   "cell_type": "code",
   "execution_count": null,
   "id": "a46cc2ee-8116-4354-8fff-6ff4b0637eb3",
   "metadata": {},
   "outputs": [],
   "source": [
    "import cv2\n",
    "import glob, os, errno"
   ]
  },
  {
   "cell_type": "code",
   "execution_count": null,
   "id": "0f49fd34-b604-437b-aaca-86d745e07486",
   "metadata": {},
   "outputs": [],
   "source": [
    "# Replace mydir with the directory you want\n",
    "mydir = r'image_dataset_resampling_low_class/training_dataset'\n",
    "output_dir = r'image_dataset_resampling_low_class_grayscale/training_dataset'\n",
    "CLASS_NAME = [\"0\",\"1\",\"2\", \"3\",\"4\", \"5\", \"6\", \"7\"]\n",
    "#check if directory exist, if not create it\n",
    "clahe = cv2.createCLAHE(clipLimit = 2)\n",
    "for a in CLASS_NAME:\n",
    "    subdir = mydir + \"/\" + a\n",
    "    print(subdir)\n",
    "    \n",
    "    isExist = os.path.exists(subdir) \n",
    "    if not isExist:\n",
    "        print(\"path not exist\")\n",
    "    \n",
    "    for fil in glob.glob(subdir+\"/*.png\"):\n",
    "        # print(fil)\n",
    "        image = cv2.imread(fil) \n",
    "        gray_image = cv2.cvtColor(image, cv2.COLOR_BGR2GRAY) # convert to greyscale\n",
    "        gray_image = clahe.apply(gray_image) + 30\n",
    "        cv2.imwrite(fil,gray_image) # write to location with same name\n",
    "    print(a, \"is done\")"
   ]
  }
 ],
 "metadata": {
  "kernelspec": {
   "display_name": "Python 3 (ipykernel)",
   "language": "python",
   "name": "python3"
  },
  "language_info": {
   "codemirror_mode": {
    "name": "ipython",
    "version": 3
   },
   "file_extension": ".py",
   "mimetype": "text/x-python",
   "name": "python",
   "nbconvert_exporter": "python",
   "pygments_lexer": "ipython3",
   "version": "3.9.7"
  }
 },
 "nbformat": 4,
 "nbformat_minor": 5
}
